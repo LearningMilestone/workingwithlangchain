{
 "cells": [
  {
   "cell_type": "markdown",
   "id": "aa6de2c2-989d-4baf-ac6d-fea3d6f7c19d",
   "metadata": {},
   "source": [
    "# Check Your Environment"
   ]
  },
  {
   "cell_type": "markdown",
   "id": "1e3bb95f-08f0-43ca-8f82-04303bdd6a5f",
   "metadata": {},
   "source": [
    "## Load openai key\n"
   ]
  },
  {
   "cell_type": "code",
   "execution_count": 48,
   "id": "11302fad-caa8-457b-aa63-eac285461600",
   "metadata": {},
   "outputs": [],
   "source": [
    "import os \n",
    "from dotenv import load_dotenv,find_dotenv\n",
    "_=load_dotenv(find_dotenv())\n",
    "OPEN_API_KEY=os.getenv('OPENAI_API_KEY')\n"
   ]
  },
  {
   "cell_type": "markdown",
   "id": "77c7e19c-aadf-4b58-a199-00a26856b3b8",
   "metadata": {},
   "source": [
    "# Define LLM"
   ]
  },
  {
   "cell_type": "code",
   "execution_count": 49,
   "id": "be381d2f-8ea0-4c9f-851d-9f19535d2cbe",
   "metadata": {},
   "outputs": [],
   "source": [
    "from langchain_openai import ChatOpenAI\n",
    "model=\"gpt-4o-mini\"\n",
    "llm = ChatOpenAI(\n",
    "    model=\"gpt-4o-mini\",\n",
    "    api_key=OPEN_API_KEY\n",
    ")"
   ]
  },
  {
   "cell_type": "markdown",
   "id": "da86387e-61aa-47c1-80dc-a3d88dbd1899",
   "metadata": {},
   "source": [
    "# Document Ingestion"
   ]
  },
  {
   "cell_type": "code",
   "execution_count": 50,
   "id": "3084110f-a822-45f9-885a-46f18fcbab13",
   "metadata": {},
   "outputs": [],
   "source": [
    "#!pip install pypdf"
   ]
  },
  {
   "cell_type": "code",
   "execution_count": 51,
   "id": "25dffc56-4547-44df-a375-1afcc6537d1c",
   "metadata": {},
   "outputs": [],
   "source": [
    "from langchain_community.document_loaders import PyPDFLoader\n",
    "loader=PyPDFLoader(\"SAMPLE HR MANUAL.pdf\")\n",
    "document=loader.load()"
   ]
  },
  {
   "cell_type": "code",
   "execution_count": 52,
   "id": "93a0a685-22ca-4e7a-b003-7f1ec454189b",
   "metadata": {},
   "outputs": [
    {
     "data": {
      "text/plain": [
       "11"
      ]
     },
     "execution_count": 52,
     "metadata": {},
     "output_type": "execute_result"
    }
   ],
   "source": [
    "len(document)"
   ]
  },
  {
   "cell_type": "code",
   "execution_count": 53,
   "id": "d60f2f14-1139-413f-9c66-333184818d0e",
   "metadata": {},
   "outputs": [
    {
     "data": {
      "text/plain": [
       "'Sample Human Resource Manual   [Year] \\n \\n6 \\n \\noutside office; Persistent late coming; Diverting the firm’s  funds to personal use \\nwithout authorisation; Using the firm’s stationery including headed paper, stamps, \\nseals and emblems and such items without authorisation especially with an intent to \\ngain personal gain; Forgery of documents including acade mic documents, \\naccountability records; and any other acts that are contrary to the ICPAU’s \\nProfessional Code of Conduct shall constitute offences and shall make the staff liable \\nto disciplinary action as specified in section 7.3 of this manual. \\n7.2 Disciplinary Procedures. \\nWhere performance of a staff is unsatisfactory, they will be given an opportunity to \\nrespond to the allegations. \\nStaff alleged to have committed offenses categorized as gross misconduct shall be \\nsuspended on half pay, pending outcome of the investigations. \\n7.3 Disciplinary Action. \\nStaff found to have committed offences shall be subject to one of the following \\ndisciplinary actions: Caution; written warning; suspension; loss of salary; demotion; or \\ndismissal. \\n8.0 LEAVE \\n8.1 Annual Leave. \\nAll employees shall be entitled to thirty working days.  Leave entitlement for staff \\nleaving the firm shall be computed on prorate basis. \\n8.2 Maternity Leave. \\nFemale staff shall be entitled to maternity leave on full pay for a maximum period of \\nsixty working days of which at least four weeks shall follow child birth. Male staff shall \\nbe entitled to paternity leave of 5 working days once in every year. \\n8.3 Sick Leave. \\nStaff shall be entitled to sick leave  not exceeding one month, with full pay  on \\npresentation of an appropriate medical report from a qualified medical practitioner. \\n8.4 Compassionate leave. \\nIn cases of personal difficulty, staff shall apply and be granted leave not exceeding 5 \\nworking days.'"
      ]
     },
     "execution_count": 53,
     "metadata": {},
     "output_type": "execute_result"
    }
   ],
   "source": [
    "document[9].page_content"
   ]
  },
  {
   "cell_type": "markdown",
   "id": "ddd72b82-49e2-4443-acbd-ddc1014b7bf9",
   "metadata": {},
   "source": [
    "# Text Splitter"
   ]
  },
  {
   "cell_type": "code",
   "execution_count": null,
   "id": "30199da9-9359-46c9-82ec-96045b97441d",
   "metadata": {},
   "outputs": [],
   "source": []
  },
  {
   "cell_type": "code",
   "execution_count": 54,
   "id": "27cdfa25-5ff2-4e40-90ed-bf0a12f55623",
   "metadata": {},
   "outputs": [],
   "source": [
    "# !pip install  langchain-text-splitters"
   ]
  },
  {
   "cell_type": "code",
   "execution_count": 55,
   "id": "0cc2e6a4-b1d3-4a76-a47f-4182a1305ad0",
   "metadata": {},
   "outputs": [],
   "source": [
    "text=\"\"\"Hello world. My name is Anuradha. I teach data science.\n",
    "LangChain is a powerful framework that helps build LLM applications.\n",
    "\"\"\""
   ]
  },
  {
   "cell_type": "code",
   "execution_count": 56,
   "id": "d5495684-1444-4210-a5e8-40552616cc85",
   "metadata": {},
   "outputs": [
    {
     "name": "stderr",
     "output_type": "stream",
     "text": [
      "Created a chunk of size 68, which is longer than the specified 25\n"
     ]
    },
    {
     "name": "stdout",
     "output_type": "stream",
     "text": [
      "\n",
      "🧱 CharacterTextSplitter Chunks:\n",
      "\n",
      "['Hello world', 'My name is Anuradha', 'I teach data science', 'LangChain is a powerful framework that helps build LLM applications']\n",
      "[11, 19, 20, 67]\n"
     ]
    }
   ],
   "source": [
    "from langchain_text_splitters import CharacterTextSplitter, RecursiveCharacterTextSplitter\n",
    "\n",
    "# 1. CharacterTextSplitter\n",
    "char_splitter = CharacterTextSplitter(\n",
    "    separator=\".\",         # Naively split on spaces\n",
    "    chunk_size=25,        # Force smaller chunks\n",
    "    chunk_overlap=5\n",
    ")\n",
    "char_chunks = char_splitter.split_text(text)\n",
    "\n",
    "# Print chunks\n",
    "print(\"\\n🧱 CharacterTextSplitter Chunks:\\n\")\n",
    "print(char_chunks)\n",
    "print([len(chunk)for chunk in char_chunks])\n"
   ]
  },
  {
   "cell_type": "code",
   "execution_count": 57,
   "id": "6195c45d-6696-4d6e-9567-298ef9fc9751",
   "metadata": {},
   "outputs": [
    {
     "name": "stdout",
     "output_type": "stream",
     "text": [
      "\n",
      "🧱 RecursiveCharacterTextSplitter Chunks:\n",
      "\n",
      "['Hello world', '. My name is Anuradha', '. I teach data', 'data science.\\nLangChain', 'is a powerful framework', 'that helps build LLM', 'LLM applications.']\n",
      "[11, 21, 14, 23, 23, 20, 17]\n"
     ]
    }
   ],
   "source": [
    "# 2. RecursiveCharacterTextSplitter\n",
    "recursive_splitter = RecursiveCharacterTextSplitter(\n",
    "    separators=[\". \", \" \", \"\"],\n",
    "    chunk_size=25,\n",
    "    chunk_overlap=5\n",
    ")\n",
    "recursive_chunks = recursive_splitter.split_text(text)\n",
    "\n",
    "\n",
    "# Print chunks\n",
    "print(\"\\n🧱 RecursiveCharacterTextSplitter Chunks:\\n\")\n",
    "print(recursive_chunks)\n",
    "print([len(chunk)for chunk in recursive_chunks])\n"
   ]
  },
  {
   "cell_type": "code",
   "execution_count": 58,
   "id": "34c5c616-555d-47d6-8c19-53360479e080",
   "metadata": {},
   "outputs": [
    {
     "name": "stdout",
     "output_type": "stream",
     "text": [
      "[Document(metadata={'producer': 'Microsoft® Office Word 2007', 'creator': 'Microsoft® Office Word 2007', 'creationdate': '2012-10-01T08:42:50+03:00', 'title': 'Sample Human Resource Manual', 'subject': 'CERTIFIED PUBLIC ACCOUNTANTS', 'moddate': '2012-10-01T08:42:50+03:00', 'source': 'SAMPLE HR MANUAL.pdf', 'total_pages': 11, 'page': 0, 'page_label': '1'}, page_content='i \\n \\n \\nSample Human Resource Manual   \\nCERTIFIED PUBLIC ACCOUNTANTS    \\n \\n \\n \\n      \\n      \\n \\n \\n \\nHUMAN RESOURCE  \\nMANAGEMENT MANUAL \\n \\n \\nYEAR.'), Document(metadata={'producer': 'Microsoft® Office Word 2007', 'creator': 'Microsoft® Office Word 2007', 'creationdate': '2012-10-01T08:42:50+03:00', 'title': 'Sample Human Resource Manual', 'subject': 'CERTIFIED PUBLIC ACCOUNTANTS', 'moddate': '2012-10-01T08:42:50+03:00', 'source': 'SAMPLE HR MANUAL.pdf', 'total_pages': 11, 'page': 1, 'page_label': '2'}, page_content='Sample Human Resource Manual   [Year] \\n \\nii \\n \\nINTRODUCTION \\n \\nABC & Associates was established in 20xx with an objective of providing quality driven \\nassurance and consultancy services. In order to achieve this objective, the firm employs a \\nworkforce whose terms and conditions of services are determined by the provisions of this \\nHuman Resources Management Manual.'), Document(metadata={'producer': 'Microsoft® Office Word 2007', 'creator': 'Microsoft® Office Word 2007', 'creationdate': '2012-10-01T08:42:50+03:00', 'title': 'Sample Human Resource Manual', 'subject': 'CERTIFIED PUBLIC ACCOUNTANTS', 'moddate': '2012-10-01T08:42:50+03:00', 'source': 'SAMPLE HR MANUAL.pdf', 'total_pages': 11, 'page': 1, 'page_label': '2'}, page_content='This Manual embodies the terms and conditions of service of ABC & Associates and shall apply \\nto all staff of the firm except where they are at variance with  the laws of Uganda or as \\notherwise provided in this Manual. \\n \\nThe board reserves the right to amend this manual or any part thereof as may be deemed \\nnecessary.'), Document(metadata={'producer': 'Microsoft® Office Word 2007', 'creator': 'Microsoft® Office Word 2007', 'creationdate': '2012-10-01T08:42:50+03:00', 'title': 'Sample Human Resource Manual', 'subject': 'CERTIFIED PUBLIC ACCOUNTANTS', 'moddate': '2012-10-01T08:42:50+03:00', 'source': 'SAMPLE HR MANUAL.pdf', 'total_pages': 11, 'page': 1, 'page_label': '2'}, page_content='necessary. \\n \\nAny issues arising out of the interpretation or application of this Manual shall be referred to \\nthe Managing partner whose decision shall be final.  \\n \\n \\n \\n \\n \\n \\n \\n \\n \\n \\n \\nMonth, Year.'), Document(metadata={'producer': 'Microsoft® Office Word 2007', 'creator': 'Microsoft® Office Word 2007', 'creationdate': '2012-10-01T08:42:50+03:00', 'title': 'Sample Human Resource Manual', 'subject': 'CERTIFIED PUBLIC ACCOUNTANTS', 'moddate': '2012-10-01T08:42:50+03:00', 'source': 'SAMPLE HR MANUAL.pdf', 'total_pages': 11, 'page': 2, 'page_label': '3'}, page_content='Sample Human Resource Manual   [Year] \\n \\niii \\n \\nTABLE OF CONTENTS \\nINTRODUCTION ............................................................................................................................................. ii \\n1.0  HUMAN RESOURCE MANAGEMENT POLICY ..................................................................................... 1'), Document(metadata={'producer': 'Microsoft® Office Word 2007', 'creator': 'Microsoft® Office Word 2007', 'creationdate': '2012-10-01T08:42:50+03:00', 'title': 'Sample Human Resource Manual', 'subject': 'CERTIFIED PUBLIC ACCOUNTANTS', 'moddate': '2012-10-01T08:42:50+03:00', 'source': 'SAMPLE HR MANUAL.pdf', 'total_pages': 11, 'page': 2, 'page_label': '3'}, page_content='1.1 PURPOSE OF THE MANUAL. .......................................................................................................... 1 \\n1.2 HUMAN RESOURCE MANAGEMENT OBJECTIVES. ........................................................................ 1 \\n1.3  HUMAN RESOURCE MANAGEMENT STRATEGY. ........................................................................... 1'), Document(metadata={'producer': 'Microsoft® Office Word 2007', 'creator': 'Microsoft® Office Word 2007', 'creationdate': '2012-10-01T08:42:50+03:00', 'title': 'Sample Human Resource Manual', 'subject': 'CERTIFIED PUBLIC ACCOUNTANTS', 'moddate': '2012-10-01T08:42:50+03:00', 'source': 'SAMPLE HR MANUAL.pdf', 'total_pages': 11, 'page': 2, 'page_label': '3'}, page_content='2.0 RECRUITMENT AND APPOINTMENT. ................................................................................................ 1 \\n2.1 Recruitment Policy. ....................................................................................................................... 1'), Document(metadata={'producer': 'Microsoft® Office Word 2007', 'creator': 'Microsoft® Office Word 2007', 'creationdate': '2012-10-01T08:42:50+03:00', 'title': 'Sample Human Resource Manual', 'subject': 'CERTIFIED PUBLIC ACCOUNTANTS', 'moddate': '2012-10-01T08:42:50+03:00', 'source': 'SAMPLE HR MANUAL.pdf', 'total_pages': 11, 'page': 2, 'page_label': '3'}, page_content='2.2 Recruitment Procedures. .............................................................................................................. 2 \\n2.2.1  Job Applications. .................................................................................................................. 2'), Document(metadata={'producer': 'Microsoft® Office Word 2007', 'creator': 'Microsoft® Office Word 2007', 'creationdate': '2012-10-01T08:42:50+03:00', 'title': 'Sample Human Resource Manual', 'subject': 'CERTIFIED PUBLIC ACCOUNTANTS', 'moddate': '2012-10-01T08:42:50+03:00', 'source': 'SAMPLE HR MANUAL.pdf', 'total_pages': 11, 'page': 2, 'page_label': '3'}, page_content='2.2.2 Selection Tests. ..................................................................................................................... 2 \\n2.3 Staff Appointments. ...................................................................................................................... 2'), Document(metadata={'producer': 'Microsoft® Office Word 2007', 'creator': 'Microsoft® Office Word 2007', 'creationdate': '2012-10-01T08:42:50+03:00', 'title': 'Sample Human Resource Manual', 'subject': 'CERTIFIED PUBLIC ACCOUNTANTS', 'moddate': '2012-10-01T08:42:50+03:00', 'source': 'SAMPLE HR MANUAL.pdf', 'total_pages': 11, 'page': 2, 'page_label': '3'}, page_content='2.3.1  Acceptance. ........................................................................................................................... 2 \\n2.4 Induction ....................................................................................................................................... 2'), Document(metadata={'producer': 'Microsoft® Office Word 2007', 'creator': 'Microsoft® Office Word 2007', 'creationdate': '2012-10-01T08:42:50+03:00', 'title': 'Sample Human Resource Manual', 'subject': 'CERTIFIED PUBLIC ACCOUNTANTS', 'moddate': '2012-10-01T08:42:50+03:00', 'source': 'SAMPLE HR MANUAL.pdf', 'total_pages': 11, 'page': 2, 'page_label': '3'}, page_content='2.5 Continuous Professional Development. ....................................................................................... 3 \\n3.0 CONDITIONS OF APPOINTMENT. ...................................................................................................... 3'), Document(metadata={'producer': 'Microsoft® Office Word 2007', 'creator': 'Microsoft® Office Word 2007', 'creationdate': '2012-10-01T08:42:50+03:00', 'title': 'Sample Human Resource Manual', 'subject': 'CERTIFIED PUBLIC ACCOUNTANTS', 'moddate': '2012-10-01T08:42:50+03:00', 'source': 'SAMPLE HR MANUAL.pdf', 'total_pages': 11, 'page': 2, 'page_label': '3'}, page_content='3.1 Probation. ..................................................................................................................................... 3 \\n3.2 Termination. .................................................................................................................................. 3'), Document(metadata={'producer': 'Microsoft® Office Word 2007', 'creator': 'Microsoft® Office Word 2007', 'creationdate': '2012-10-01T08:42:50+03:00', 'title': 'Sample Human Resource Manual', 'subject': 'CERTIFIED PUBLIC ACCOUNTANTS', 'moddate': '2012-10-01T08:42:50+03:00', 'source': 'SAMPLE HR MANUAL.pdf', 'total_pages': 11, 'page': 2, 'page_label': '3'}, page_content='3.3 Confirmation. ................................................................................................................................ 3 \\n3.4 Use of firms resources. ................................................................................................................. 3'), Document(metadata={'producer': 'Microsoft® Office Word 2007', 'creator': 'Microsoft® Office Word 2007', 'creationdate': '2012-10-01T08:42:50+03:00', 'title': 'Sample Human Resource Manual', 'subject': 'CERTIFIED PUBLIC ACCOUNTANTS', 'moddate': '2012-10-01T08:42:50+03:00', 'source': 'SAMPLE HR MANUAL.pdf', 'total_pages': 11, 'page': 2, 'page_label': '3'}, page_content='4.0 STAFF DEVELOPMENT. ...................................................................................................................... 3 \\n4.1 STAFF CAREER DEVELOPMENT. .................................................................................................... 4'), Document(metadata={'producer': 'Microsoft® Office Word 2007', 'creator': 'Microsoft® Office Word 2007', 'creationdate': '2012-10-01T08:42:50+03:00', 'title': 'Sample Human Resource Manual', 'subject': 'CERTIFIED PUBLIC ACCOUNTANTS', 'moddate': '2012-10-01T08:42:50+03:00', 'source': 'SAMPLE HR MANUAL.pdf', 'total_pages': 11, 'page': 2, 'page_label': '3'}, page_content='5.0 PERFORMANCE EVALUATION. .......................................................................................................... 4 \\n5.1 Performance Reviews. .................................................................................................................. 4'), Document(metadata={'producer': 'Microsoft® Office Word 2007', 'creator': 'Microsoft® Office Word 2007', 'creationdate': '2012-10-01T08:42:50+03:00', 'title': 'Sample Human Resource Manual', 'subject': 'CERTIFIED PUBLIC ACCOUNTANTS', 'moddate': '2012-10-01T08:42:50+03:00', 'source': 'SAMPLE HR MANUAL.pdf', 'total_pages': 11, 'page': 2, 'page_label': '3'}, page_content='5.2 Annual Performance Review Cycle. .............................................................................................. 4 \\n5.3  Mode of Appraisal Exercise .......................................................................................................... 4 \\n5.4 Management of Performance Appraisal Recommendations. ...................................................... 5'), Document(metadata={'producer': 'Microsoft® Office Word 2007', 'creator': 'Microsoft® Office Word 2007', 'creationdate': '2012-10-01T08:42:50+03:00', 'title': 'Sample Human Resource Manual', 'subject': 'CERTIFIED PUBLIC ACCOUNTANTS', 'moddate': '2012-10-01T08:42:50+03:00', 'source': 'SAMPLE HR MANUAL.pdf', 'total_pages': 11, 'page': 2, 'page_label': '3'}, page_content='5.0 COMPENSATION PACKAGE. .............................................................................................................. 5 \\n5.1 Salary Payments and Deductions. ................................................................................................. 5'), Document(metadata={'producer': 'Microsoft® Office Word 2007', 'creator': 'Microsoft® Office Word 2007', 'creationdate': '2012-10-01T08:42:50+03:00', 'title': 'Sample Human Resource Manual', 'subject': 'CERTIFIED PUBLIC ACCOUNTANTS', 'moddate': '2012-10-01T08:42:50+03:00', 'source': 'SAMPLE HR MANUAL.pdf', 'total_pages': 11, 'page': 2, 'page_label': '3'}, page_content='5.2 Overtime Allowance ...................................................................................................................... 5 \\n6.0 FACILITATION. ................................................................................................................................... 5'), Document(metadata={'producer': 'Microsoft® Office Word 2007', 'creator': 'Microsoft® Office Word 2007', 'creationdate': '2012-10-01T08:42:50+03:00', 'title': 'Sample Human Resource Manual', 'subject': 'CERTIFIED PUBLIC ACCOUNTANTS', 'moddate': '2012-10-01T08:42:50+03:00', 'source': 'SAMPLE HR MANUAL.pdf', 'total_pages': 11, 'page': 3, 'page_label': '4'}, page_content='Sample Human Resource Manual   [Year] \\n \\niv \\n \\n7.0 DISCIPLINE. ........................................................................................................................................ 5 \\n7.1 Offences. ....................................................................................................................................... 5'), Document(metadata={'producer': 'Microsoft® Office Word 2007', 'creator': 'Microsoft® Office Word 2007', 'creationdate': '2012-10-01T08:42:50+03:00', 'title': 'Sample Human Resource Manual', 'subject': 'CERTIFIED PUBLIC ACCOUNTANTS', 'moddate': '2012-10-01T08:42:50+03:00', 'source': 'SAMPLE HR MANUAL.pdf', 'total_pages': 11, 'page': 3, 'page_label': '4'}, page_content='7.2 Disciplinary Procedures. ................................................................................................................ 6 \\n7.3 Disciplinary Action. ....................................................................................................................... 6'), Document(metadata={'producer': 'Microsoft® Office Word 2007', 'creator': 'Microsoft® Office Word 2007', 'creationdate': '2012-10-01T08:42:50+03:00', 'title': 'Sample Human Resource Manual', 'subject': 'CERTIFIED PUBLIC ACCOUNTANTS', 'moddate': '2012-10-01T08:42:50+03:00', 'source': 'SAMPLE HR MANUAL.pdf', 'total_pages': 11, 'page': 3, 'page_label': '4'}, page_content='8.0 LEAVE ................................................................................................................................................ 6 \\n8.1 Annual Leave. ................................................................................................................................ 6'), Document(metadata={'producer': 'Microsoft® Office Word 2007', 'creator': 'Microsoft® Office Word 2007', 'creationdate': '2012-10-01T08:42:50+03:00', 'title': 'Sample Human Resource Manual', 'subject': 'CERTIFIED PUBLIC ACCOUNTANTS', 'moddate': '2012-10-01T08:42:50+03:00', 'source': 'SAMPLE HR MANUAL.pdf', 'total_pages': 11, 'page': 3, 'page_label': '4'}, page_content='8.2 Maternity Leave. ........................................................................................................................... 6 \\n8.3 Sick Leave. ..................................................................................................................................... 6'), Document(metadata={'producer': 'Microsoft® Office Word 2007', 'creator': 'Microsoft® Office Word 2007', 'creationdate': '2012-10-01T08:42:50+03:00', 'title': 'Sample Human Resource Manual', 'subject': 'CERTIFIED PUBLIC ACCOUNTANTS', 'moddate': '2012-10-01T08:42:50+03:00', 'source': 'SAMPLE HR MANUAL.pdf', 'total_pages': 11, 'page': 3, 'page_label': '4'}, page_content='8.4 Compassionate leave. ................................................................................................................... 6 \\n9.0 TERMINATION OF SERVICE. .............................................................................................................. 7'), Document(metadata={'producer': 'Microsoft® Office Word 2007', 'creator': 'Microsoft® Office Word 2007', 'creationdate': '2012-10-01T08:42:50+03:00', 'title': 'Sample Human Resource Manual', 'subject': 'CERTIFIED PUBLIC ACCOUNTANTS', 'moddate': '2012-10-01T08:42:50+03:00', 'source': 'SAMPLE HR MANUAL.pdf', 'total_pages': 11, 'page': 3, 'page_label': '4'}, page_content='9.1 Notice Periods. .............................................................................................................................. 7 \\n9.2 Handing over on termination. ....................................................................................................... 7'), Document(metadata={'producer': 'Microsoft® Office Word 2007', 'creator': 'Microsoft® Office Word 2007', 'creationdate': '2012-10-01T08:42:50+03:00', 'title': 'Sample Human Resource Manual', 'subject': 'CERTIFIED PUBLIC ACCOUNTANTS', 'moddate': '2012-10-01T08:42:50+03:00', 'source': 'SAMPLE HR MANUAL.pdf', 'total_pages': 11, 'page': 3, 'page_label': '4'}, page_content='10.0  SAFETY AND SECURITY. .................................................................................................................... 7 \\n10.1 Compensation. .............................................................................................................................. 7'), Document(metadata={'producer': 'Microsoft® Office Word 2007', 'creator': 'Microsoft® Office Word 2007', 'creationdate': '2012-10-01T08:42:50+03:00', 'title': 'Sample Human Resource Manual', 'subject': 'CERTIFIED PUBLIC ACCOUNTANTS', 'moddate': '2012-10-01T08:42:50+03:00', 'source': 'SAMPLE HR MANUAL.pdf', 'total_pages': 11, 'page': 4, 'page_label': '5'}, page_content='Sample Human Resource Manual   [Year] \\n \\n1 \\n \\n1.0  HUMAN RESOURCE MANAGEMENT POLICY \\n1.1 PURPOSE OF THE MANUAL. \\n \\nThis manual is intended to guide staff regarding their rights and obligations.  \\nThese guidelines shall be followed by all staff of ABC & Associates including the Senior \\nManagement Team and part time staff who may be employed by the firm from time to \\ntime.'), Document(metadata={'producer': 'Microsoft® Office Word 2007', 'creator': 'Microsoft® Office Word 2007', 'creationdate': '2012-10-01T08:42:50+03:00', 'title': 'Sample Human Resource Manual', 'subject': 'CERTIFIED PUBLIC ACCOUNTANTS', 'moddate': '2012-10-01T08:42:50+03:00', 'source': 'SAMPLE HR MANUAL.pdf', 'total_pages': 11, 'page': 4, 'page_label': '5'}, page_content='time. \\n1.2 HUMAN RESOURCE MANAGEMENT OBJECTIVES. \\nThe firm shall endeavor to achieve the following objectives; \\na) Appropriate remuneration for all staff for services rendered. \\nb) Fair hearing for all staff as provided for in this manual. \\nc) Equal employment opportunities. \\nd) Provision of appropriate training and facilitation. \\n1.3  HUMAN RESOURCE MANAGEMENT STRATEGY.'), Document(metadata={'producer': 'Microsoft® Office Word 2007', 'creator': 'Microsoft® Office Word 2007', 'creationdate': '2012-10-01T08:42:50+03:00', 'title': 'Sample Human Resource Manual', 'subject': 'CERTIFIED PUBLIC ACCOUNTANTS', 'moddate': '2012-10-01T08:42:50+03:00', 'source': 'SAMPLE HR MANUAL.pdf', 'total_pages': 11, 'page': 4, 'page_label': '5'}, page_content='The firm shall endeavor to attract, engage and retain high quality staff and optimally \\nuse their services. \\n2.0 RECRUITMENT AND APPOINTMENT. \\n2.1 Recruitment Policy. \\n \\nABC & Associates shall not  recruit staff , other than support staff  who do not have \\nknowledge in accounting and audit unless the partners identify a strong will and'), Document(metadata={'producer': 'Microsoft® Office Word 2007', 'creator': 'Microsoft® Office Word 2007', 'creationdate': '2012-10-01T08:42:50+03:00', 'title': 'Sample Human Resource Manual', 'subject': 'CERTIFIED PUBLIC ACCOUNTANTS', 'moddate': '2012-10-01T08:42:50+03:00', 'source': 'SAMPLE HR MANUAL.pdf', 'total_pages': 11, 'page': 4, 'page_label': '5'}, page_content='potential from a given candidate in which case it shall be upon ABC & Associates to \\nensure that such a candidate, if employed is enrolled for an accounting & Audit course \\npreferably a professional accounting course like CPA, ACCA, CMA. \\n \\nPositions in the firm will be filled transparently and on merit using open competition \\nas the basis of selection.'), Document(metadata={'producer': 'Microsoft® Office Word 2007', 'creator': 'Microsoft® Office Word 2007', 'creationdate': '2012-10-01T08:42:50+03:00', 'title': 'Sample Human Resource Manual', 'subject': 'CERTIFIED PUBLIC ACCOUNTANTS', 'moddate': '2012-10-01T08:42:50+03:00', 'source': 'SAMPLE HR MANUAL.pdf', 'total_pages': 11, 'page': 5, 'page_label': '6'}, page_content='Sample Human Resource Manual   [Year] \\n \\n2 \\n \\n2.2 Recruitment Procedures. \\nThe nature of audit and consultancy is such that all is dependent of the quality of \\nstaff. ABC & Associates shall strive to attract and retain the best talent within the \\nfirm’s financial capacity. \\n2.2.1  Job Applications. \\n \\nAll candidates shall put their applications in writing. No staff shall be recruited'), Document(metadata={'producer': 'Microsoft® Office Word 2007', 'creator': 'Microsoft® Office Word 2007', 'creationdate': '2012-10-01T08:42:50+03:00', 'title': 'Sample Human Resource Manual', 'subject': 'CERTIFIED PUBLIC ACCOUNTANTS', 'moddate': '2012-10-01T08:42:50+03:00', 'source': 'SAMPLE HR MANUAL.pdf', 'total_pages': 11, 'page': 5, 'page_label': '6'}, page_content='through a “back door” approach. \\n \\nThe partners reserve the right to headhunt or advertise in an effort to obtain the best \\naffordable talent in the labour market – In this case no applications may be necessary. \\n2.2.2 Selection Tests. \\n \\nCandidates shall be subjected to relevant interviews and tests as determined by the \\nManaging and staff partner. \\n2.3 Staff Appointments.'), Document(metadata={'producer': 'Microsoft® Office Word 2007', 'creator': 'Microsoft® Office Word 2007', 'creationdate': '2012-10-01T08:42:50+03:00', 'title': 'Sample Human Resource Manual', 'subject': 'CERTIFIED PUBLIC ACCOUNTANTS', 'moddate': '2012-10-01T08:42:50+03:00', 'source': 'SAMPLE HR MANUAL.pdf', 'total_pages': 11, 'page': 5, 'page_label': '6'}, page_content='All staff shall be employed on a permanent basis , subject to successful annual  \\nperformance appraisals. \\nABC & Associates shall not recruit any person who did not score at least a credit in \\nEnglish and Mathematics at O -Level and at least 2 principal passes at A -Level unless \\nsuch a person is  to be employed in other positions that are n ot technical. Technical'), Document(metadata={'producer': 'Microsoft® Office Word 2007', 'creator': 'Microsoft® Office Word 2007', 'creationdate': '2012-10-01T08:42:50+03:00', 'title': 'Sample Human Resource Manual', 'subject': 'CERTIFIED PUBLIC ACCOUNTANTS', 'moddate': '2012-10-01T08:42:50+03:00', 'source': 'SAMPLE HR MANUAL.pdf', 'total_pages': 11, 'page': 5, 'page_label': '6'}, page_content='positions in this  context shall mean positions that shall require staff to offer audit, \\nassurance, tax and any form of advisory services to clients. \\n2.3.1  Acceptance. \\na) Appointees shall accept the offer of employment within 14 days f rom the date of \\noffer by filling and signing the Appointment Acceptance Form.'), Document(metadata={'producer': 'Microsoft® Office Word 2007', 'creator': 'Microsoft® Office Word 2007', 'creationdate': '2012-10-01T08:42:50+03:00', 'title': 'Sample Human Resource Manual', 'subject': 'CERTIFIED PUBLIC ACCOUNTANTS', 'moddate': '2012-10-01T08:42:50+03:00', 'source': 'SAMPLE HR MANUAL.pdf', 'total_pages': 11, 'page': 5, 'page_label': '6'}, page_content='b) The appointee shall report for duty not later than one month from the date of \\nacceptance. \\n2.4 Induction \\nAll staff joining the firm shall be subjected to an induction to familiar ise them with \\naudit and consultancy operations. All staff including non technical staff shall be \\nrequired to gain at least the basic understanding of audit processes and general \\noperations of an audit firm.'), Document(metadata={'producer': 'Microsoft® Office Word 2007', 'creator': 'Microsoft® Office Word 2007', 'creationdate': '2012-10-01T08:42:50+03:00', 'title': 'Sample Human Resource Manual', 'subject': 'CERTIFIED PUBLIC ACCOUNTANTS', 'moddate': '2012-10-01T08:42:50+03:00', 'source': 'SAMPLE HR MANUAL.pdf', 'total_pages': 11, 'page': 6, 'page_label': '7'}, page_content='Sample Human Resource Manual   [Year] \\n \\n3 \\n \\n2.5 Continuous Professional Development. \\nAll staff shall be expected to undergo C ontinuous Professional Development  (CPD) \\nsessions organised by the firm. The firm’s management may from time to time change \\nthe mode of delivering CPD sessions to staff. This may involve having technical'), Document(metadata={'producer': 'Microsoft® Office Word 2007', 'creator': 'Microsoft® Office Word 2007', 'creationdate': '2012-10-01T08:42:50+03:00', 'title': 'Sample Human Resource Manual', 'subject': 'CERTIFIED PUBLIC ACCOUNTANTS', 'moddate': '2012-10-01T08:42:50+03:00', 'source': 'SAMPLE HR MANUAL.pdf', 'total_pages': 11, 'page': 6, 'page_label': '7'}, page_content='presentations at office, attending seminars and workshops organised by  professional \\nbodies like ICPAU and ACCA. \\n3.0 CONDITIONS OF APPOINTMENT. \\n3.1 Probation. \\nOn appointment to the firm, staff shall undergo a two months probationary period \\nafter which the appointment will be confirmed after a positive performance appraisal. \\n3.2 Termination.'), Document(metadata={'producer': 'Microsoft® Office Word 2007', 'creator': 'Microsoft® Office Word 2007', 'creationdate': '2012-10-01T08:42:50+03:00', 'title': 'Sample Human Resource Manual', 'subject': 'CERTIFIED PUBLIC ACCOUNTANTS', 'moddate': '2012-10-01T08:42:50+03:00', 'source': 'SAMPLE HR MANUAL.pdf', 'total_pages': 11, 'page': 6, 'page_label': '7'}, page_content='3.2 Termination. \\na) The firm may at any time terminate the appointment  of any staff on probation on \\naccount of unsatisfactory performance or conduct. \\nb) On the termination of the services of an employee, they shall be given one month’s \\nnotice or one month’s pay in lieu of notice. \\n3.3 Confirmation. \\nConfirmation shall be subject to satisfactory performance reports from the immediate'), Document(metadata={'producer': 'Microsoft® Office Word 2007', 'creator': 'Microsoft® Office Word 2007', 'creationdate': '2012-10-01T08:42:50+03:00', 'title': 'Sample Human Resource Manual', 'subject': 'CERTIFIED PUBLIC ACCOUNTANTS', 'moddate': '2012-10-01T08:42:50+03:00', 'source': 'SAMPLE HR MANUAL.pdf', 'total_pages': 11, 'page': 6, 'page_label': '7'}, page_content='supervisor.  \\nStaff shall be notified of their confirmation in writing. \\n3.4 Use of firms resources. \\nStaff will as much as possible exercise due responsibility while using the firm’s \\nresources in the course of performing their duties. The firm’s assets and resources \\nshall be used only to perform the firm’s work. This may include computers, printers,'), Document(metadata={'producer': 'Microsoft® Office Word 2007', 'creator': 'Microsoft® Office Word 2007', 'creationdate': '2012-10-01T08:42:50+03:00', 'title': 'Sample Human Resource Manual', 'subject': 'CERTIFIED PUBLIC ACCOUNTANTS', 'moddate': '2012-10-01T08:42:50+03:00', 'source': 'SAMPLE HR MANUAL.pdf', 'total_pages': 11, 'page': 6, 'page_label': '7'}, page_content='photocopier, stationery, telephone, internet connection; furniture etc. unauthorised \\nuse of the firm’s resources to gain personal benefit may result into a disciplinary \\naction taken against the responsible staff. \\nThe firm’s management shall put an effort in enforcing efficiency and effectiveness in \\nusage of the firm’s resources. However, staff shall be expected to exercise natural'), Document(metadata={'producer': 'Microsoft® Office Word 2007', 'creator': 'Microsoft® Office Word 2007', 'creationdate': '2012-10-01T08:42:50+03:00', 'title': 'Sample Human Resource Manual', 'subject': 'CERTIFIED PUBLIC ACCOUNTANTS', 'moddate': '2012-10-01T08:42:50+03:00', 'source': 'SAMPLE HR MANUAL.pdf', 'total_pages': 11, 'page': 6, 'page_label': '7'}, page_content='judgment in ensuring their acts do not expose the firm to avoidable costs. \\n4.0 STAFF DEVELOPMENT. \\nThe firm shall plan, develop and implement human resource training and development \\nprograms in accordance with set guidelines.'), Document(metadata={'producer': 'Microsoft® Office Word 2007', 'creator': 'Microsoft® Office Word 2007', 'creationdate': '2012-10-01T08:42:50+03:00', 'title': 'Sample Human Resource Manual', 'subject': 'CERTIFIED PUBLIC ACCOUNTANTS', 'moddate': '2012-10-01T08:42:50+03:00', 'source': 'SAMPLE HR MANUAL.pdf', 'total_pages': 11, 'page': 7, 'page_label': '8'}, page_content='Sample Human Resource Manual   [Year] \\n \\n4 \\n \\n4.1 STAFF CAREER DEVELOPMENT. \\nIn cases where staff is sponsored staff for training, such staff will be required to sign a \\nBond committing them to serve the firm for such a period as may be determined by \\nthe partners. \\n5.0 PERFORMANCE EVALUATION. \\nThe performance appraisal guidelines have been prepared to guide the firm in'), Document(metadata={'producer': 'Microsoft® Office Word 2007', 'creator': 'Microsoft® Office Word 2007', 'creationdate': '2012-10-01T08:42:50+03:00', 'title': 'Sample Human Resource Manual', 'subject': 'CERTIFIED PUBLIC ACCOUNTANTS', 'moddate': '2012-10-01T08:42:50+03:00', 'source': 'SAMPLE HR MANUAL.pdf', 'total_pages': 11, 'page': 7, 'page_label': '8'}, page_content='appraising her staff to ensure that performance if appropriately measured against the \\nset parameters. Its primary objective is to ensure that staff performance is improved \\nat all times for the benefit of both the firm and the individual staff. The staff \\nperformance guide shall also form a key basis for establishing the appropriate level of \\ncompensation that is commensurate to performance.'), Document(metadata={'producer': 'Microsoft® Office Word 2007', 'creator': 'Microsoft® Office Word 2007', 'creationdate': '2012-10-01T08:42:50+03:00', 'title': 'Sample Human Resource Manual', 'subject': 'CERTIFIED PUBLIC ACCOUNTANTS', 'moddate': '2012-10-01T08:42:50+03:00', 'source': 'SAMPLE HR MANUAL.pdf', 'total_pages': 11, 'page': 7, 'page_label': '8'}, page_content='5.1 Performance Reviews. \\nThere shall be periodic performance reviews for the purpose of monitoring staff \\nperformance which will form the basi s for staff reward, development and other \\nmanagement decisions. \\n5.2 Annual Performance Review Cycle. \\nThe performance of all staff shall be appraised twice a year at an interval of six  (06) \\nmonths.'), Document(metadata={'producer': 'Microsoft® Office Word 2007', 'creator': 'Microsoft® Office Word 2007', 'creationdate': '2012-10-01T08:42:50+03:00', 'title': 'Sample Human Resource Manual', 'subject': 'CERTIFIED PUBLIC ACCOUNTANTS', 'moddate': '2012-10-01T08:42:50+03:00', 'source': 'SAMPLE HR MANUAL.pdf', 'total_pages': 11, 'page': 7, 'page_label': '8'}, page_content='months. \\nThe Appraisal exercise shall be carried out in the first week following that in which \\nthe appraisal cycle ends. This shall therefore be the first week of January and the \\nfirst week of July to appraise staff performance for the cycles ending 31st Dec and \\n30th June of every year respectively. \\n5.3  Mode of Appraisal Exercise'), Document(metadata={'producer': 'Microsoft® Office Word 2007', 'creator': 'Microsoft® Office Word 2007', 'creationdate': '2012-10-01T08:42:50+03:00', 'title': 'Sample Human Resource Manual', 'subject': 'CERTIFIED PUBLIC ACCOUNTANTS', 'moddate': '2012-10-01T08:42:50+03:00', 'source': 'SAMPLE HR MANUAL.pdf', 'total_pages': 11, 'page': 7, 'page_label': '8'}, page_content='The exercise shall be performed in form of a peer review by way of a round -table \\ndiscussion of each of the individual’s performance for the cycle ended. Each appraisee \\nshall be given the o pportunity to present his argument if they think they have been \\ngiven a lower score by the Peer Review Team (PRT). This implies that the appraisee \\nshall also be part of the PRT.'), Document(metadata={'producer': 'Microsoft® Office Word 2007', 'creator': 'Microsoft® Office Word 2007', 'creationdate': '2012-10-01T08:42:50+03:00', 'title': 'Sample Human Resource Manual', 'subject': 'CERTIFIED PUBLIC ACCOUNTANTS', 'moddate': '2012-10-01T08:42:50+03:00', 'source': 'SAMPLE HR MANUAL.pdf', 'total_pages': 11, 'page': 8, 'page_label': '9'}, page_content='Sample Human Resource Manual   [Year] \\n \\n5 \\n \\n5.4 Management of Performance Appraisal Recommendations. \\n \\nThe firm shall imp lement the appraisal recommendations with a view to recorgnise \\nand reward staff performance, and address their development needs. \\n5.0 COMPENSATION PACKAGE. \\n5.1 Salary Payments and Deductions.'), Document(metadata={'producer': 'Microsoft® Office Word 2007', 'creator': 'Microsoft® Office Word 2007', 'creationdate': '2012-10-01T08:42:50+03:00', 'title': 'Sample Human Resource Manual', 'subject': 'CERTIFIED PUBLIC ACCOUNTANTS', 'moddate': '2012-10-01T08:42:50+03:00', 'source': 'SAMPLE HR MANUAL.pdf', 'total_pages': 11, 'page': 8, 'page_label': '9'}, page_content='Staff remunerations shall be determined by the Partners from time to time any may be \\nrevised upwards or down words depending on circumstances. Remuneration for a \\nmember of the Senior Management Team – SMT (e.g. a partner) shall not be raised \\nbasing on high er earnings for any period. If any SMT member draws more than their'), Document(metadata={'producer': 'Microsoft® Office Word 2007', 'creator': 'Microsoft® Office Word 2007', 'creationdate': '2012-10-01T08:42:50+03:00', 'title': 'Sample Human Resource Manual', 'subject': 'CERTIFIED PUBLIC ACCOUNTANTS', 'moddate': '2012-10-01T08:42:50+03:00', 'source': 'SAMPLE HR MANUAL.pdf', 'total_pages': 11, 'page': 8, 'page_label': '9'}, page_content='salary from the business, it shall be treated as an accountable advance from him and if \\nnot paid back will be offset from his salary. This is an effort to separate personal \\nfinancial business from that of ABC & Associates and to provide for proper planning of \\nexpansion. \\n5.2 Overtime Allowance \\nWhere staff are required to do any work overtime in any month, they shall be entitled'), Document(metadata={'producer': 'Microsoft® Office Word 2007', 'creator': 'Microsoft® Office Word 2007', 'creationdate': '2012-10-01T08:42:50+03:00', 'title': 'Sample Human Resource Manual', 'subject': 'CERTIFIED PUBLIC ACCOUNTANTS', 'moddate': '2012-10-01T08:42:50+03:00', 'source': 'SAMPLE HR MANUAL.pdf', 'total_pages': 11, 'page': 8, 'page_label': '9'}, page_content='to an overtime allowance equivalent to one and half times the ho urly salary for every \\nhour spent on the job. \\n6.0 FACILITATION. \\nThe firm shall provide transport to employees on official duties outside their normal \\nduty station. Where transport is not provided, any employee using his private vehicle \\nto go for official duties shall be paid mileage at approved rates. \\n7.0 DISCIPLINE.'), Document(metadata={'producer': 'Microsoft® Office Word 2007', 'creator': 'Microsoft® Office Word 2007', 'creationdate': '2012-10-01T08:42:50+03:00', 'title': 'Sample Human Resource Manual', 'subject': 'CERTIFIED PUBLIC ACCOUNTANTS', 'moddate': '2012-10-01T08:42:50+03:00', 'source': 'SAMPLE HR MANUAL.pdf', 'total_pages': 11, 'page': 8, 'page_label': '9'}, page_content='7.0 DISCIPLINE. \\nAll staff shall be expected to exhibit the highest degree of discipline and courtesy \\nwhile conducting the firm’s business. No staff shall be expected to involve themselves \\nin any acts that cast doubt on their integrity.  \\n7.1 Offences. \\nMisdemeanors, misconduct and gross misconduct such as:  Drunkenness and drunken'), Document(metadata={'producer': 'Microsoft® Office Word 2007', 'creator': 'Microsoft® Office Word 2007', 'creationdate': '2012-10-01T08:42:50+03:00', 'title': 'Sample Human Resource Manual', 'subject': 'CERTIFIED PUBLIC ACCOUNTANTS', 'moddate': '2012-10-01T08:42:50+03:00', 'source': 'SAMPLE HR MANUAL.pdf', 'total_pages': 11, 'page': 8, 'page_label': '9'}, page_content='driving; Smoking; Use of narcotic drugs like marijuana; Stealing; Fighting in and/or'), Document(metadata={'producer': 'Microsoft® Office Word 2007', 'creator': 'Microsoft® Office Word 2007', 'creationdate': '2012-10-01T08:42:50+03:00', 'title': 'Sample Human Resource Manual', 'subject': 'CERTIFIED PUBLIC ACCOUNTANTS', 'moddate': '2012-10-01T08:42:50+03:00', 'source': 'SAMPLE HR MANUAL.pdf', 'total_pages': 11, 'page': 9, 'page_label': '10'}, page_content='Sample Human Resource Manual   [Year] \\n \\n6 \\n \\noutside office; Persistent late coming; Diverting the firm’s  funds to personal use \\nwithout authorisation; Using the firm’s stationery including headed paper, stamps, \\nseals and emblems and such items without authorisation especially with an intent to \\ngain personal gain; Forgery of documents including acade mic documents,'), Document(metadata={'producer': 'Microsoft® Office Word 2007', 'creator': 'Microsoft® Office Word 2007', 'creationdate': '2012-10-01T08:42:50+03:00', 'title': 'Sample Human Resource Manual', 'subject': 'CERTIFIED PUBLIC ACCOUNTANTS', 'moddate': '2012-10-01T08:42:50+03:00', 'source': 'SAMPLE HR MANUAL.pdf', 'total_pages': 11, 'page': 9, 'page_label': '10'}, page_content='accountability records; and any other acts that are contrary to the ICPAU’s \\nProfessional Code of Conduct shall constitute offences and shall make the staff liable \\nto disciplinary action as specified in section 7.3 of this manual. \\n7.2 Disciplinary Procedures. \\nWhere performance of a staff is unsatisfactory, they will be given an opportunity to \\nrespond to the allegations.'), Document(metadata={'producer': 'Microsoft® Office Word 2007', 'creator': 'Microsoft® Office Word 2007', 'creationdate': '2012-10-01T08:42:50+03:00', 'title': 'Sample Human Resource Manual', 'subject': 'CERTIFIED PUBLIC ACCOUNTANTS', 'moddate': '2012-10-01T08:42:50+03:00', 'source': 'SAMPLE HR MANUAL.pdf', 'total_pages': 11, 'page': 9, 'page_label': '10'}, page_content='Staff alleged to have committed offenses categorized as gross misconduct shall be \\nsuspended on half pay, pending outcome of the investigations. \\n7.3 Disciplinary Action. \\nStaff found to have committed offences shall be subject to one of the following \\ndisciplinary actions: Caution; written warning; suspension; loss of salary; demotion; or \\ndismissal. \\n8.0 LEAVE \\n8.1 Annual Leave.'), Document(metadata={'producer': 'Microsoft® Office Word 2007', 'creator': 'Microsoft® Office Word 2007', 'creationdate': '2012-10-01T08:42:50+03:00', 'title': 'Sample Human Resource Manual', 'subject': 'CERTIFIED PUBLIC ACCOUNTANTS', 'moddate': '2012-10-01T08:42:50+03:00', 'source': 'SAMPLE HR MANUAL.pdf', 'total_pages': 11, 'page': 9, 'page_label': '10'}, page_content='8.1 Annual Leave. \\nAll employees shall be entitled to thirty working days.  Leave entitlement for staff \\nleaving the firm shall be computed on prorate basis. \\n8.2 Maternity Leave. \\nFemale staff shall be entitled to maternity leave on full pay for a maximum period of \\nsixty working days of which at least four weeks shall follow child birth. Male staff shall'), Document(metadata={'producer': 'Microsoft® Office Word 2007', 'creator': 'Microsoft® Office Word 2007', 'creationdate': '2012-10-01T08:42:50+03:00', 'title': 'Sample Human Resource Manual', 'subject': 'CERTIFIED PUBLIC ACCOUNTANTS', 'moddate': '2012-10-01T08:42:50+03:00', 'source': 'SAMPLE HR MANUAL.pdf', 'total_pages': 11, 'page': 9, 'page_label': '10'}, page_content='be entitled to paternity leave of 5 working days once in every year. \\n8.3 Sick Leave. \\nStaff shall be entitled to sick leave  not exceeding one month, with full pay  on \\npresentation of an appropriate medical report from a qualified medical practitioner. \\n8.4 Compassionate leave. \\nIn cases of personal difficulty, staff shall apply and be granted leave not exceeding 5 \\nworking days.'), Document(metadata={'producer': 'Microsoft® Office Word 2007', 'creator': 'Microsoft® Office Word 2007', 'creationdate': '2012-10-01T08:42:50+03:00', 'title': 'Sample Human Resource Manual', 'subject': 'CERTIFIED PUBLIC ACCOUNTANTS', 'moddate': '2012-10-01T08:42:50+03:00', 'source': 'SAMPLE HR MANUAL.pdf', 'total_pages': 11, 'page': 10, 'page_label': '11'}, page_content='Sample Human Resource Manual   [Year] \\n \\n7 \\n \\n9.0 TERMINATION OF SERVICE. \\n9.1 Notice Periods. \\nA one month written notice or payment in lieu of notice shall be given by staff or the \\nfirm on termination of service. \\n9.2 Handing over on termination. \\nBefore staff leave the employment of the firm, they shall be required to hand over all'), Document(metadata={'producer': 'Microsoft® Office Word 2007', 'creator': 'Microsoft® Office Word 2007', 'creationdate': '2012-10-01T08:42:50+03:00', 'title': 'Sample Human Resource Manual', 'subject': 'CERTIFIED PUBLIC ACCOUNTANTS', 'moddate': '2012-10-01T08:42:50+03:00', 'source': 'SAMPLE HR MANUAL.pdf', 'total_pages': 11, 'page': 10, 'page_label': '11'}, page_content='the firm property and assignments in their possession to their immediate supervisor. \\n10.0  SAFETY AND SECURITY. \\nAll staff are encouraged to be security cautious at all times whether at office or \\noutside office. \\nStaff are advised to alert concerned authorities e.g. police promptly when in situations \\nthat jeopardize their security. Such situations may include, identifying suspicious'), Document(metadata={'producer': 'Microsoft® Office Word 2007', 'creator': 'Microsoft® Office Word 2007', 'creationdate': '2012-10-01T08:42:50+03:00', 'title': 'Sample Human Resource Manual', 'subject': 'CERTIFIED PUBLIC ACCOUNTANTS', 'moddate': '2012-10-01T08:42:50+03:00', 'source': 'SAMPLE HR MANUAL.pdf', 'total_pages': 11, 'page': 10, 'page_label': '11'}, page_content='items especially those that are abandoned. \\nAll staff should always be cautious not to leave any electric gadgets on when leaving \\noffice. Office lights, computers, printers, the Office TV and all electric appliances \\nshall all be switched when leaving office. \\nThe office assistant shall do cleaning works while putting on office gloves. \\n10.1 Compensation.'), Document(metadata={'producer': 'Microsoft® Office Word 2007', 'creator': 'Microsoft® Office Word 2007', 'creationdate': '2012-10-01T08:42:50+03:00', 'title': 'Sample Human Resource Manual', 'subject': 'CERTIFIED PUBLIC ACCOUNTANTS', 'moddate': '2012-10-01T08:42:50+03:00', 'source': 'SAMPLE HR MANUAL.pdf', 'total_pages': 11, 'page': 10, 'page_label': '11'}, page_content='10.1 Compensation. \\nStaff who suffer injury in the ordinary  course of the firm’s business shall qualify for \\ncompensation in line with the Workers’ compensation Act, 2000.')]\n",
      "[143, 368, 321, 199, 351, 373, 278, 283, 288, 297, 267, 301, 293, 277, 279, 390, 275, 296, 354, 291, 306, 299, 284, 288, 294, 373, 373, 337, 355, 386, 376, 367, 318, 393, 335, 348, 390, 354, 387, 227, 372, 395, 345, 336, 371, 319, 327, 384, 388, 335, 84, 371, 376, 383, 358, 384, 337, 388, 358, 172]\n"
     ]
    }
   ],
   "source": [
    "recursive_splitter = RecursiveCharacterTextSplitter(\n",
    "    separators=[\"\\n\\n\",\"\\n\", \" \", \"\"],\n",
    "    chunk_size=400,\n",
    "    chunk_overlap=20\n",
    ")\n",
    "chunks = recursive_splitter.split_documents(document)\n",
    "\n",
    "\n",
    "# Print chunks\n",
    "print(chunks)\n",
    "print([len(chunk.page_content) for chunk in chunks])"
   ]
  },
  {
   "cell_type": "markdown",
   "id": "583f76c6-f9f0-430f-891a-52e34e0249a1",
   "metadata": {},
   "source": [
    "# Embedding And Storing Chunks\n"
   ]
  },
  {
   "cell_type": "code",
   "execution_count": 59,
   "id": "80356b1b-dfac-43b8-ac14-219e186599a2",
   "metadata": {},
   "outputs": [
    {
     "name": "stdout",
     "output_type": "stream",
     "text": [
      "60\n"
     ]
    }
   ],
   "source": [
    "print(len(chunks))"
   ]
  },
  {
   "cell_type": "code",
   "execution_count": 60,
   "id": "18cb8ed5-85bf-42bf-8cb1-09a78227bcce",
   "metadata": {},
   "outputs": [],
   "source": [
    "# !pip install chromadb==0.4.17\n",
    "# import chromadb\n",
    "# from chromadb.utils.embedding_functions import OpenAIEmbeddingFunction"
   ]
  },
  {
   "cell_type": "code",
   "execution_count": 61,
   "id": "8f8a4cd5-b026-4fd6-b5cd-86de985edd35",
   "metadata": {},
   "outputs": [],
   "source": [
    "from langchain.vectorstores import Chroma\n",
    "from langchain_openai import OpenAIEmbeddings"
   ]
  },
  {
   "cell_type": "code",
   "execution_count": 62,
   "id": "dd0546dc-695f-4ad1-9d15-0b0eedf5e1d9",
   "metadata": {},
   "outputs": [],
   "source": [
    "embedding_model = OpenAIEmbeddings(api_key=OPEN_API_KEY, model='text-embedding-3-small')\n"
   ]
  },
  {
   "cell_type": "code",
   "execution_count": 63,
   "id": "5c19d2a3-78dc-4949-a463-e4db2345fea8",
   "metadata": {},
   "outputs": [],
   "source": [
    "vector_store=Chroma.from_documents(documents=chunks,embedding=embedding_model,persist_directory=\"./chrome_store\")"
   ]
  },
  {
   "cell_type": "code",
   "execution_count": 64,
   "id": "089a6d1a-1663-49e2-b959-fa0af36f4bea",
   "metadata": {},
   "outputs": [
    {
     "data": {
      "text/plain": [
       "180"
      ]
     },
     "execution_count": 64,
     "metadata": {},
     "output_type": "execute_result"
    }
   ],
   "source": [
    "len(vector_store._collection.get()['documents'])"
   ]
  },
  {
   "cell_type": "markdown",
   "id": "c1577c95-56cf-425e-9768-40e65e3bd4ed",
   "metadata": {},
   "source": [
    "# LCEL Retrieval Chain\n"
   ]
  },
  {
   "cell_type": "markdown",
   "id": "def75c8f-41d3-4658-8576-e3f2a03de064",
   "metadata": {},
   "source": [
    "## Retriever"
   ]
  },
  {
   "cell_type": "code",
   "execution_count": 73,
   "id": "d26285e6-89a2-4728-ad1f-f37f002ba5db",
   "metadata": {},
   "outputs": [],
   "source": [
    "retriever = vector_store.as_retriever(search_type=\"similarity\", search_kwargs={\"k\": 20})\n"
   ]
  },
  {
   "cell_type": "markdown",
   "id": "b75e5a44-9667-449f-99c1-171678b37031",
   "metadata": {},
   "source": [
    "## Create a Prompt Template"
   ]
  },
  {
   "cell_type": "code",
   "execution_count": 74,
   "id": "492c8baf-6203-4ea0-9d8a-133c006da065",
   "metadata": {},
   "outputs": [],
   "source": [
    "from langchain_core.prompts import ChatPromptTemplate\n",
    "from langchain_core.output_parsers import StrOutputParser\n",
    "\n",
    "prompt = ChatPromptTemplate.from_template(\"\"\"Use the following pieces of context to answer the question at the end.\n",
    "If you don't know the answer, say that you don't know.\n",
    "Context: {context} Question: {question}\"\"\")\n",
    "llm = ChatOpenAI(model=\"gpt-4o-mini\", api_key=OPEN_API_KEY, temperature=0)"
   ]
  },
  {
   "cell_type": "markdown",
   "id": "d22b121a-af16-467f-bffb-7b74648c14d2",
   "metadata": {},
   "source": [
    "## building lcel retrieval chain"
   ]
  },
  {
   "cell_type": "code",
   "execution_count": 75,
   "id": "55a8cab7-bfab-4892-a002-24dba3e21a8f",
   "metadata": {},
   "outputs": [],
   "source": [
    "from langchain_core.runnables import RunnablePassthrough\n",
    "from langchain_core.runnables import RunnableLambda\n",
    "chain=(\n",
    "    {\"context\":RunnableLambda(lambda x: retriever.invoke(x['question'])),\n",
    "    \"question\":RunnablePassthrough(),}\n",
    "    | prompt\n",
    "    | llm\n",
    "    | StrOutputParser()\n",
    ")"
   ]
  },
  {
   "cell_type": "code",
   "execution_count": 76,
   "id": "88bcefe8-9ac3-435e-b4e9-12b5c74ab6fd",
   "metadata": {},
   "outputs": [
    {
     "name": "stdout",
     "output_type": "stream",
     "text": [
      "The updated leave policy includes the following provisions:\n",
      "\n",
      "1. **Annual Leave**: All employees are entitled to thirty working days of annual leave. Leave entitlement for staff leaving the firm will be computed on a prorate basis.\n",
      "\n",
      "2. **Maternity Leave**: Female staff are entitled to maternity leave on full pay for a maximum period of sixty working days, of which at least four weeks must follow childbirth.\n",
      "\n",
      "3. **Paternity Leave**: Male staff are entitled to paternity leave of five working days once every year.\n",
      "\n",
      "4. **Sick Leave**: Staff are entitled to sick leave not exceeding one month, with full pay, upon presentation of an appropriate medical report from a qualified medical practitioner.\n",
      "\n",
      "5. **Compassionate Leave**: In cases of personal difficulty, staff may apply for and be granted leave not exceeding five working days.\n",
      "\n",
      "This policy outlines the various types of leave available to employees and the conditions under which they can be taken.\n"
     ]
    }
   ],
   "source": [
    "result=chain.invoke({\"question\":\"What is the updated leave policy here?\"})\n",
    "print(result)"
   ]
  },
  {
   "cell_type": "code",
   "execution_count": 77,
   "id": "0f76e555-7417-406d-a66c-8179d8ebfcaa",
   "metadata": {},
   "outputs": [
    {
     "name": "stdout",
     "output_type": "stream",
     "text": [
      "I don't know.\n"
     ]
    }
   ],
   "source": [
    "result=chain.invoke({\"question\":\"Who is the prime minister of India?\"})\n",
    "print(result)"
   ]
  }
 ],
 "metadata": {
  "kernelspec": {
   "display_name": "Python (LangChain)",
   "language": "python",
   "name": "langchain_env"
  },
  "language_info": {
   "codemirror_mode": {
    "name": "ipython",
    "version": 3
   },
   "file_extension": ".py",
   "mimetype": "text/x-python",
   "name": "python",
   "nbconvert_exporter": "python",
   "pygments_lexer": "ipython3",
   "version": "3.11.13"
  }
 },
 "nbformat": 4,
 "nbformat_minor": 5
}
