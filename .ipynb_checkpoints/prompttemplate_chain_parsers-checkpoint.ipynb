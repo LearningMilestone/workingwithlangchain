{
 "cells": [
  {
   "cell_type": "markdown",
   "id": "aa6de2c2-989d-4baf-ac6d-fea3d6f7c19d",
   "metadata": {},
   "source": [
    "# Check Your Environment"
   ]
  },
  {
   "cell_type": "markdown",
   "id": "1e3bb95f-08f0-43ca-8f82-04303bdd6a5f",
   "metadata": {},
   "source": [
    "## Load openai key\n"
   ]
  },
  {
   "cell_type": "code",
   "execution_count": 6,
   "id": "11302fad-caa8-457b-aa63-eac285461600",
   "metadata": {},
   "outputs": [],
   "source": [
    "import os \n",
    "from dotenv import load_dotenv,find_dotenv\n",
    "_=load_dotenv(find_dotenv())\n",
    "OPEN_API_KEY=os.getenv('OPENAI_API_KEY')\n"
   ]
  },
  {
   "cell_type": "markdown",
   "id": "77c7e19c-aadf-4b58-a199-00a26856b3b8",
   "metadata": {},
   "source": [
    "# Define LLM"
   ]
  },
  {
   "cell_type": "code",
   "execution_count": 7,
   "id": "be381d2f-8ea0-4c9f-851d-9f19535d2cbe",
   "metadata": {},
   "outputs": [],
   "source": [
    "from langchain_openai import ChatOpenAI\n",
    "model=\"gpt-4o-mini\"\n",
    "llm = ChatOpenAI(\n",
    "    model=\"gpt-4o-mini\",\n",
    "    api_key=OPEN_API_KEY\n",
    ")"
   ]
  },
  {
   "cell_type": "markdown",
   "id": "da86387e-61aa-47c1-80dc-a3d88dbd1899",
   "metadata": {},
   "source": [
    "# Send First Request"
   ]
  },
  {
   "cell_type": "code",
   "execution_count": 8,
   "id": "649c2710-2275-4515-a3f6-0ca942a7ec24",
   "metadata": {},
   "outputs": [],
   "source": [
    "question1 = \"Who is the Prime Minister of India?\"\n",
    "response1=llm.invoke(question1)\n"
   ]
  },
  {
   "cell_type": "code",
   "execution_count": 9,
   "id": "5e3e7f8d-1eb5-4d01-a445-7b9a1bcb94ba",
   "metadata": {},
   "outputs": [
    {
     "data": {
      "text/plain": [
       "'As of October 2023, the Prime Minister of India is Narendra Modi. He has been in office since May 26, 2014.'"
      ]
     },
     "execution_count": 9,
     "metadata": {},
     "output_type": "execute_result"
    }
   ],
   "source": [
    "response1.content"
   ]
  },
  {
   "cell_type": "code",
   "execution_count": null,
   "id": "3084110f-a822-45f9-885a-46f18fcbab13",
   "metadata": {},
   "outputs": [],
   "source": []
  }
 ],
 "metadata": {
  "kernelspec": {
   "display_name": "Python (LangChain)",
   "language": "python",
   "name": "langchain_env"
  },
  "language_info": {
   "codemirror_mode": {
    "name": "ipython",
    "version": 3
   },
   "file_extension": ".py",
   "mimetype": "text/x-python",
   "name": "python",
   "nbconvert_exporter": "python",
   "pygments_lexer": "ipython3",
   "version": "3.11.13"
  }
 },
 "nbformat": 4,
 "nbformat_minor": 5
}
