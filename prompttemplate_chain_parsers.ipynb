{
 "cells": [
  {
   "cell_type": "markdown",
   "id": "aa6de2c2-989d-4baf-ac6d-fea3d6f7c19d",
   "metadata": {},
   "source": [
    "# Check Your Environment"
   ]
  },
  {
   "cell_type": "markdown",
   "id": "1e3bb95f-08f0-43ca-8f82-04303bdd6a5f",
   "metadata": {},
   "source": [
    "## Load openai key\n"
   ]
  },
  {
   "cell_type": "code",
   "execution_count": 2,
   "id": "11302fad-caa8-457b-aa63-eac285461600",
   "metadata": {},
   "outputs": [],
   "source": [
    "import os \n",
    "from dotenv import load_dotenv,find_dotenv\n",
    "_=load_dotenv(find_dotenv())\n",
    "OPEN_API_KEY=os.getenv('OPENAI_API_KEY')\n"
   ]
  },
  {
   "cell_type": "markdown",
   "id": "77c7e19c-aadf-4b58-a199-00a26856b3b8",
   "metadata": {},
   "source": [
    "# Define LLM"
   ]
  },
  {
   "cell_type": "code",
   "execution_count": 3,
   "id": "be381d2f-8ea0-4c9f-851d-9f19535d2cbe",
   "metadata": {},
   "outputs": [],
   "source": [
    "from langchain_openai import ChatOpenAI\n",
    "model=\"gpt-4o-mini\"\n",
    "llm = ChatOpenAI(\n",
    "    model=\"gpt-4o-mini\",\n",
    "    api_key=OPEN_API_KEY\n",
    ")"
   ]
  },
  {
   "cell_type": "markdown",
   "id": "da86387e-61aa-47c1-80dc-a3d88dbd1899",
   "metadata": {},
   "source": [
    "# Send First Request"
   ]
  },
  {
   "cell_type": "code",
   "execution_count": 4,
   "id": "649c2710-2275-4515-a3f6-0ca942a7ec24",
   "metadata": {},
   "outputs": [],
   "source": [
    "question1 = \"Who is the Prime Minister of India?\"\n",
    "response1=llm.invoke(question1)\n"
   ]
  },
  {
   "cell_type": "code",
   "execution_count": 5,
   "id": "5e3e7f8d-1eb5-4d01-a445-7b9a1bcb94ba",
   "metadata": {},
   "outputs": [
    {
     "data": {
      "text/plain": [
       "'As of my last knowledge update in October 2023, the Prime Minister of India is Narendra Modi. He has been in office since May 26, 2014. Please verify with up-to-date sources, as political positions can change.'"
      ]
     },
     "execution_count": 5,
     "metadata": {},
     "output_type": "execute_result"
    }
   ],
   "source": [
    "response1.content"
   ]
  },
  {
   "cell_type": "markdown",
   "id": "b2c22954-cb05-4767-a21b-9d0d6298e64f",
   "metadata": {},
   "source": [
    "# Create Dynamic Prompts Using PromptTemplate"
   ]
  },
  {
   "cell_type": "code",
   "execution_count": 6,
   "id": "b394a80c-6a67-45ed-8f6d-f4bc5e600210",
   "metadata": {},
   "outputs": [
    {
     "data": {
      "text/plain": [
       "PromptTemplate(input_variables=['country'], input_types={}, partial_variables={}, template='What is the capital of {country}')"
      ]
     },
     "execution_count": 6,
     "metadata": {},
     "output_type": "execute_result"
    }
   ],
   "source": [
    "from langchain.prompts import PromptTemplate\n",
    "\n",
    "template=\"What is the capital of {country}\"\n",
    "prompt_template=PromptTemplate.from_template(template)\n",
    "prompt_template\n"
   ]
  },
  {
   "cell_type": "code",
   "execution_count": 7,
   "id": "4e8e2232-70e4-49df-8379-5d67f31d2d22",
   "metadata": {},
   "outputs": [
    {
     "data": {
      "text/plain": [
       "'What is the capital of Japan'"
      ]
     },
     "execution_count": 7,
     "metadata": {},
     "output_type": "execute_result"
    }
   ],
   "source": [
    "final_prompt=prompt_template.format(country=\"Japan\")\n",
    "final_prompt"
   ]
  },
  {
   "cell_type": "code",
   "execution_count": 8,
   "id": "0833d53b-3ef5-4df9-9496-bc9f105a3773",
   "metadata": {},
   "outputs": [
    {
     "data": {
      "text/plain": [
       "AIMessage(content='The capital of Japan is Tokyo.', additional_kwargs={'refusal': None}, response_metadata={'token_usage': {'completion_tokens': 7, 'prompt_tokens': 13, 'total_tokens': 20, 'completion_tokens_details': {'accepted_prediction_tokens': 0, 'audio_tokens': 0, 'reasoning_tokens': 0, 'rejected_prediction_tokens': 0}, 'prompt_tokens_details': {'audio_tokens': 0, 'cached_tokens': 0}}, 'model_name': 'gpt-4o-mini-2024-07-18', 'system_fingerprint': 'fp_34a54ae93c', 'finish_reason': 'stop', 'logprobs': None}, id='run--f01ec336-7d8b-4136-a739-65f8384eb729-0', usage_metadata={'input_tokens': 13, 'output_tokens': 7, 'total_tokens': 20, 'input_token_details': {'audio': 0, 'cache_read': 0}, 'output_token_details': {'audio': 0, 'reasoning': 0}})"
      ]
     },
     "execution_count": 8,
     "metadata": {},
     "output_type": "execute_result"
    }
   ],
   "source": [
    "response=llm.invoke(final_prompt)\n",
    "response"
   ]
  },
  {
   "cell_type": "markdown",
   "id": "ce7fd3e2-256d-40a8-91e9-b66f29638244",
   "metadata": {},
   "source": [
    "# LCEL - Langchain Expression Language"
   ]
  },
  {
   "cell_type": "code",
   "execution_count": 9,
   "id": "ef1e6a8d-c378-43a5-a20c-17919c7544cb",
   "metadata": {},
   "outputs": [
    {
     "data": {
      "text/plain": [
       "AIMessage(content='The capital of Japan is Tokyo.', additional_kwargs={'refusal': None}, response_metadata={'token_usage': {'completion_tokens': 7, 'prompt_tokens': 13, 'total_tokens': 20, 'completion_tokens_details': {'accepted_prediction_tokens': 0, 'audio_tokens': 0, 'reasoning_tokens': 0, 'rejected_prediction_tokens': 0}, 'prompt_tokens_details': {'audio_tokens': 0, 'cached_tokens': 0}}, 'model_name': 'gpt-4o-mini-2024-07-18', 'system_fingerprint': 'fp_34a54ae93c', 'finish_reason': 'stop', 'logprobs': None}, id='run--740f05d6-ddcf-4ac9-b68b-1f9a7dcdb097-0', usage_metadata={'input_tokens': 13, 'output_tokens': 7, 'total_tokens': 20, 'input_token_details': {'audio': 0, 'cache_read': 0}, 'output_token_details': {'audio': 0, 'reasoning': 0}})"
      ]
     },
     "execution_count": 9,
     "metadata": {},
     "output_type": "execute_result"
    }
   ],
   "source": [
    "chain=prompt_template | llm\n",
    "response=chain.invoke({\"country\":\"Japan\"})\n",
    "response"
   ]
  },
  {
   "cell_type": "markdown",
   "id": "7c417773-6e08-47c8-8a5a-754eeb59a284",
   "metadata": {},
   "source": [
    "# Output Parsers"
   ]
  },
  {
   "cell_type": "code",
   "execution_count": 11,
   "id": "09982641-748c-43a7-a7f1-c3f4012dd4d0",
   "metadata": {},
   "outputs": [
    {
     "data": {
      "text/plain": [
       "str"
      ]
     },
     "execution_count": 11,
     "metadata": {},
     "output_type": "execute_result"
    }
   ],
   "source": [
    "from langchain_core.output_parsers import StrOutputParser\n",
    "\n",
    "output_parser=StrOutputParser()\n",
    "chain=prompt_template | llm | output_parser\n",
    "\n",
    "response=chain.invoke({\"country\":\"Japan\"})\n",
    "response"
   ]
  },
  {
   "cell_type": "code",
   "execution_count": 13,
   "id": "2180dbe7-5f73-4c5c-a0d0-185b1205396f",
   "metadata": {},
   "outputs": [],
   "source": [
    "from langchain.prompts import ChatPromptTemplate\n",
    "\n",
    "chat_template=ChatPromptTemplate.from_messages(\n",
    "    [\n",
    "        (\"system\",\"You are a historian. Give short, interesting answers.\"),\n",
    "        (\"user\",\"Tell me something about {topic}\")\n",
    "    ]\n",
    ")"
   ]
  },
  {
   "cell_type": "code",
   "execution_count": 15,
   "id": "432112cb-c786-4821-8950-a7a6e8ed04ac",
   "metadata": {},
   "outputs": [
    {
     "data": {
      "text/plain": [
       "'Ancient Egyptian civilization, which lasted over 3,000 years, is renowned for its remarkable achievements in architecture, art, and governance. One of its most iconic features is the construction of the pyramids, particularly the Great Pyramid of Giza, built around 2580-2560 BCE as a tomb for Pharaoh Khufu. The civilization also developed a complex religious system centered around gods like Ra and Osiris, and their writing system, hieroglyphics, was used for religious texts and monumental inscriptions. Additionally, the Nile River was central to their agriculture, providing fertile land and enabling trade and communication.'"
      ]
     },
     "execution_count": 15,
     "metadata": {},
     "output_type": "execute_result"
    }
   ],
   "source": [
    "chain=chat_template | llm | output_parser\n",
    "response=chain.invoke({\"topic\":\"Egyptian Civilization\"})\n",
    "response"
   ]
  },
  {
   "cell_type": "code",
   "execution_count": null,
   "id": "3f25c428-fc45-40b4-8d51-a29c9e8ab500",
   "metadata": {},
   "outputs": [],
   "source": []
  }
 ],
 "metadata": {
  "kernelspec": {
   "display_name": "Python (LangChain)",
   "language": "python",
   "name": "langchain_env"
  },
  "language_info": {
   "codemirror_mode": {
    "name": "ipython",
    "version": 3
   },
   "file_extension": ".py",
   "mimetype": "text/x-python",
   "name": "python",
   "nbconvert_exporter": "python",
   "pygments_lexer": "ipython3",
   "version": "3.11.13"
  }
 },
 "nbformat": 4,
 "nbformat_minor": 5
}
